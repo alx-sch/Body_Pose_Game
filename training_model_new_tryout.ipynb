{
 "cells": [
  {
   "cell_type": "code",
   "execution_count": 1,
   "id": "228828a4-3223-487e-a2e2-c26fa43de0c4",
   "metadata": {
    "tags": []
   },
   "outputs": [
    {
     "name": "stderr",
     "output_type": "stream",
     "text": [
      "2023-08-17 15:41:32.256867: I tensorflow/core/platform/cpu_feature_guard.cc:182] This TensorFlow binary is optimized to use available CPU instructions in performance-critical operations.\n",
      "To enable the following instructions: AVX2 FMA, in other operations, rebuild TensorFlow with the appropriate compiler flags.\n"
     ]
    }
   ],
   "source": [
    "\n",
    "import matplotlib.pyplot as plt\n",
    "#import mediapipe as mp\n",
    "#import mediapipe.framework.formats.landmark_pb2 as landmark_pb2\n",
    "import os\n",
    "from tensorflow.keras import backend as K\n",
    "from keras.utils import to_categorical\n",
    "import numpy as np\n",
    "\n",
    "from sklearn.model_selection import train_test_split\n",
    "\n",
    "import tensorflow as tf\n",
    "from tensorflow.keras.models import Sequential\n",
    "from tensorflow.keras.callbacks import TensorBoard\n",
    "from sklearn.metrics import multilabel_confusion_matrix, accuracy_score\n",
    "from keras.callbacks import EarlyStopping\n",
    "\n",
    "import pandas as pd\n",
    "import seaborn as sns"
   ]
  },
  {
   "cell_type": "code",
   "execution_count": 2,
   "id": "95a5dbce-0c7f-4d26-8dc0-50c9e9b5dcac",
   "metadata": {},
   "outputs": [
    {
     "data": {
      "text/plain": [
       "{'X': 0, 'crane': 1, 'empty': 2, 'squat': 3, 'stand': 4}"
      ]
     },
     "execution_count": 2,
     "metadata": {},
     "output_type": "execute_result"
    }
   ],
   "source": [
    "# create dictionary with integer labels (later used for one-hot encoding)\n",
    "\n",
    "landmarks_folder = \"training_3/landmarks/\"\n",
    "\n",
    "label_list = [label for label in os.listdir(landmarks_folder) if label != '.DS_Store']\n",
    "\n",
    "label_mapping = {}\n",
    "\n",
    "for code, label in enumerate(sorted(label_list)):\n",
    "        label_mapping[label] = code\n",
    "        \n",
    "label_mapping"
   ]
  },
  {
   "cell_type": "code",
   "execution_count": 3,
   "id": "caba0a90-d85c-4f09-8b79-0c2c4c64c88f",
   "metadata": {
    "tags": []
   },
   "outputs": [],
   "source": [
    "def perturbate_coordinates(coordinates, translation_range=0.1, noise_std=0.1): \n",
    "    perturbed_coordinates = []\n",
    "    for coord in coordinates:\n",
    "        # Translate the coordinates\n",
    "        translation = np.random.uniform(-translation_range, translation_range, size=2)\n",
    "        translated_coord = coord + translation\n",
    "        \n",
    "        # Add noise to the translated coordinates\n",
    "        noise = np.random.normal(0, noise_std, size=2)\n",
    "        perturbed_coord = translated_coord + noise\n",
    "        \n",
    "        perturbed_coordinates.append(perturbed_coord)\n",
    "    \n",
    "    return np.array(perturbed_coordinates)"
   ]
  },
  {
   "cell_type": "code",
   "execution_count": 4,
   "id": "60ee3d40-7e68-49a8-8996-a2995662b234",
   "metadata": {
    "tags": []
   },
   "outputs": [],
   "source": [
    "def load_and_augment_landmarks(landmarks_folder, fold_expansion = 0, translation_range=0.05, noise_std=0.01):\n",
    "    \n",
    "    X = []\n",
    "    y = []\n",
    "\n",
    "    for pose_folder in os.listdir(landmarks_folder):\n",
    "        if not pose_folder.startswith('.'):\n",
    "            pose_label = label_mapping.get(pose_folder)  # Use your label mapping\n",
    "            pose_folder_path = os.path.join(landmarks_folder, pose_folder)\n",
    "\n",
    "            for file in os.listdir(pose_folder_path):\n",
    "                if file.endswith('.npy'):\n",
    "                    landmark_coordinates = np.load(os.path.join(pose_folder_path, file))\n",
    "\n",
    "                    X.append(landmark_coordinates)\n",
    "                    y.append(pose_label)\n",
    "\n",
    "                    for _ in range(fold_expansion):  # x-fold \n",
    "                        perturbed_landmarks = perturbate_coordinates(landmark_coordinates, translation_range, noise_std)\n",
    "                        X.append(perturbed_landmarks)\n",
    "                        y.append(pose_label)\n",
    "\n",
    "    X = np.array(X)\n",
    "    y = np.array(y)\n",
    "    \n",
    "    return X, y"
   ]
  },
  {
   "cell_type": "code",
   "execution_count": null,
   "id": "4d9eb06d-48c7-4f90-9891-55d8585486fa",
   "metadata": {
    "jupyter": {
     "source_hidden": true
    },
    "tags": []
   },
   "outputs": [],
   "source": [
    "X = []\n",
    "y = []\n",
    "\n",
    "# Iterate through each subfolder (pose label)\n",
    "for pose_folder in os.listdir(landmarks_folder):\n",
    "    if not pose_folder.startswith('.'):  # Exclude hidden files/folders\n",
    "        \n",
    "        pose_label = label_mapping.get(pose_folder)  # Use your label mapping\n",
    "        \n",
    "        pose_folder_path = os.path.join(landmarks_folder, pose_folder)\n",
    "        \n",
    "        for file in os.listdir(pose_folder_path):\n",
    "            if file.endswith('.npy'):  \n",
    "            \n",
    "                landmark_coordinates = np.load(os.path.join(pose_folder_path, file))\n",
    "                \n",
    "                # add 'original landmarks'\n",
    "                X.append(landmark_coordinates)\n",
    "                y.append(pose_label)\n",
    "                \n",
    "                # Perturbate and store perturbed landmarks for this pose\n",
    "                for _ in range(1):  # Expand 2-fold\n",
    "                    perturbed_landmarks = perturbate_coordinates(landmark_coordinates, translation_range=0.05, noise_std=0.01)\n",
    "                    X.append(perturbed_landmarks)\n",
    "                    y.append(pose_label)\n",
    "                \n",
    "             \n",
    "\n",
    "X = np.array(X)\n",
    "y = np.array(y)\n",
    "\n",
    "X.shape, y.shape           "
   ]
  },
  {
   "cell_type": "code",
   "execution_count": 43,
   "id": "11ff4a41-99f5-40ca-bba3-4a94bd921775",
   "metadata": {
    "tags": []
   },
   "outputs": [
    {
     "data": {
      "text/plain": [
       "((900, 12, 2), (900,))"
      ]
     },
     "execution_count": 43,
     "metadata": {},
     "output_type": "execute_result"
    }
   ],
   "source": [
    "X, y = load_and_augment_landmarks(landmarks_folder, fold_expansion= 5, translation_range=0.05, noise_std=0.01)\n",
    "\n",
    "X.shape, y.shape"
   ]
  },
  {
   "cell_type": "code",
   "execution_count": 45,
   "id": "83316648-f8c4-492d-a26d-e7416eff76af",
   "metadata": {
    "tags": []
   },
   "outputs": [
    {
     "data": {
      "text/plain": [
       "((720, 12, 2), (180, 12, 2), (720,), (180,))"
      ]
     },
     "execution_count": 45,
     "metadata": {},
     "output_type": "execute_result"
    }
   ],
   "source": [
    "# Split the data into training and validation sets\n",
    "X_train, X_val, y_train, y_val = train_test_split(X, y, test_size=0.2, random_state=42)\n",
    "\n",
    "X_train.shape, X_val.shape, y_train.shape, y_val.shape"
   ]
  },
  {
   "cell_type": "code",
   "execution_count": 46,
   "id": "41a480c6-45ce-4f56-ad48-5bcee47d5c8d",
   "metadata": {
    "tags": []
   },
   "outputs": [
    {
     "data": {
      "text/plain": [
       "((720, 5), (180, 5))"
      ]
     },
     "execution_count": 46,
     "metadata": {},
     "output_type": "execute_result"
    }
   ],
   "source": [
    "# one-hot encode integer labels\n",
    "y_train_hot = to_categorical(y_train, num_classes=5)\n",
    "y_val_hot = to_categorical(y_val, num_classes=5)\n",
    "\n",
    "y_train_hot.shape, y_val_hot.shape"
   ]
  },
  {
   "cell_type": "code",
   "execution_count": 47,
   "id": "a27a8308-6d0d-4cad-9d72-783b167414a5",
   "metadata": {
    "tags": []
   },
   "outputs": [
    {
     "data": {
      "text/plain": [
       "((720, 24), (180, 24))"
      ]
     },
     "execution_count": 47,
     "metadata": {},
     "output_type": "execute_result"
    }
   ],
   "source": [
    "# Reshape the X array to 2D\n",
    "def reshape_landmarks(X):\n",
    "    num_samples, num_landmarks, num_dimensions = X.shape\n",
    "    X_reshaped = X.reshape(num_samples, num_landmarks * num_dimensions)\n",
    "    \n",
    "    return X_reshaped\n",
    "\n",
    "X_train_flattened = reshape_landmarks(X_train)\n",
    "X_val_flattened = reshape_landmarks(X_val)\n",
    "\n",
    "X_train_flattened.shape, X_val_flattened.shape"
   ]
  },
  {
   "cell_type": "code",
   "execution_count": null,
   "id": "5eea2fd9-5fcd-44d5-8d93-e8f5fb0c8d85",
   "metadata": {},
   "outputs": [],
   "source": []
  },
  {
   "cell_type": "code",
   "execution_count": null,
   "id": "f5122eff-97a0-4075-add8-369f4ceca15c",
   "metadata": {},
   "outputs": [],
   "source": []
  },
  {
   "cell_type": "code",
   "execution_count": null,
   "id": "0d73133f-0667-4bd1-9e3a-fcdf56850268",
   "metadata": {},
   "outputs": [],
   "source": []
  },
  {
   "cell_type": "code",
   "execution_count": 54,
   "id": "30cee936-a4fe-417e-bdf8-f1351632777a",
   "metadata": {
    "tags": []
   },
   "outputs": [
    {
     "name": "stdout",
     "output_type": "stream",
     "text": [
      "Model: \"sequential_4\"\n",
      "_________________________________________________________________\n",
      " Layer (type)                Output Shape              Param #   \n",
      "=================================================================\n",
      " dense_12 (Dense)            (None, 64)                1600      \n",
      "                                                                 \n",
      " dense_13 (Dense)            (None, 32)                2080      \n",
      "                                                                 \n",
      " dense_14 (Dense)            (None, 5)                 165       \n",
      "                                                                 \n",
      "=================================================================\n",
      "Total params: 3845 (15.02 KB)\n",
      "Trainable params: 3845 (15.02 KB)\n",
      "Non-trainable params: 0 (0.00 Byte)\n",
      "_________________________________________________________________\n"
     ]
    }
   ],
   "source": [
    "# Create a sequential model\n",
    "model = tf.keras.Sequential()\n",
    "\n",
    "# Add layers to the model\n",
    "model.add(tf.keras.layers.Dense(units=64, activation='relu', input_shape=(X_train_flattened.shape[1],)))\n",
    "#model.add(tf.keras.layers.Dropout(0.1))\n",
    "model.add(tf.keras.layers.Dense(units=32, activation='relu'))\n",
    "#model.add(tf.keras.layers.Dropout(0.1))\n",
    "model.add(tf.keras.layers.Dense(units=5, activation='softmax'))\n",
    "\n",
    "# Print model summary\n",
    "model.summary()"
   ]
  },
  {
   "cell_type": "code",
   "execution_count": 55,
   "id": "2cb28d62-99bf-47a3-b698-f15d88731a8f",
   "metadata": {
    "tags": []
   },
   "outputs": [],
   "source": [
    "# Compile the model\n",
    "model.compile(optimizer='adam', loss='categorical_crossentropy', metrics=['accuracy'])"
   ]
  },
  {
   "cell_type": "code",
   "execution_count": 56,
   "id": "5ab2f603-dd28-4fac-aaf4-35970a70259b",
   "metadata": {
    "tags": []
   },
   "outputs": [],
   "source": [
    "callback = EarlyStopping(monitor='val_accuracy', patience=10, mode='max', min_delta=0.0001, verbose=1)"
   ]
  },
  {
   "cell_type": "code",
   "execution_count": 12,
   "id": "a6676faa-a3fc-41c5-ab53-0ce9e6bf740f",
   "metadata": {
    "tags": []
   },
   "outputs": [],
   "source": [
    "K.clear_session()"
   ]
  },
  {
   "cell_type": "code",
   "execution_count": 57,
   "id": "671fedf1-2a34-48bb-8cd7-a71ac56597d5",
   "metadata": {
    "tags": []
   },
   "outputs": [
    {
     "name": "stdout",
     "output_type": "stream",
     "text": [
      "Epoch 1/1000\n",
      "23/23 [==============================] - 1s 9ms/step - loss: 1.4828 - accuracy: 0.4028 - val_loss: 1.4065 - val_accuracy: 0.5111\n",
      "Epoch 2/1000\n",
      "23/23 [==============================] - 0s 3ms/step - loss: 1.3202 - accuracy: 0.5542 - val_loss: 1.2367 - val_accuracy: 0.5889\n",
      "Epoch 3/1000\n",
      "23/23 [==============================] - 0s 2ms/step - loss: 1.1557 - accuracy: 0.7111 - val_loss: 1.0597 - val_accuracy: 0.7167\n",
      "Epoch 4/1000\n",
      "23/23 [==============================] - 0s 2ms/step - loss: 0.9633 - accuracy: 0.8208 - val_loss: 0.8538 - val_accuracy: 0.9444\n",
      "Epoch 5/1000\n",
      "23/23 [==============================] - 0s 2ms/step - loss: 0.7660 - accuracy: 0.8736 - val_loss: 0.6795 - val_accuracy: 0.8500\n",
      "Epoch 6/1000\n",
      "23/23 [==============================] - 0s 2ms/step - loss: 0.6005 - accuracy: 0.9361 - val_loss: 0.5339 - val_accuracy: 0.9833\n",
      "Epoch 7/1000\n",
      "23/23 [==============================] - 0s 2ms/step - loss: 0.4766 - accuracy: 0.9889 - val_loss: 0.4320 - val_accuracy: 0.9944\n",
      "Epoch 8/1000\n",
      "23/23 [==============================] - 0s 2ms/step - loss: 0.3901 - accuracy: 0.9667 - val_loss: 0.3601 - val_accuracy: 0.9778\n",
      "Epoch 9/1000\n",
      "23/23 [==============================] - 0s 4ms/step - loss: 0.3266 - accuracy: 0.9944 - val_loss: 0.2971 - val_accuracy: 1.0000\n",
      "Epoch 10/1000\n",
      "23/23 [==============================] - 0s 4ms/step - loss: 0.2663 - accuracy: 0.9986 - val_loss: 0.2614 - val_accuracy: 0.9778\n",
      "Epoch 11/1000\n",
      "23/23 [==============================] - 0s 2ms/step - loss: 0.2255 - accuracy: 0.9917 - val_loss: 0.2122 - val_accuracy: 0.9889\n",
      "Epoch 12/1000\n",
      "23/23 [==============================] - 0s 2ms/step - loss: 0.1886 - accuracy: 0.9931 - val_loss: 0.1694 - val_accuracy: 1.0000\n",
      "Epoch 13/1000\n",
      "23/23 [==============================] - 0s 3ms/step - loss: 0.1554 - accuracy: 0.9986 - val_loss: 0.1526 - val_accuracy: 1.0000\n",
      "Epoch 14/1000\n",
      "23/23 [==============================] - 0s 4ms/step - loss: 0.1298 - accuracy: 1.0000 - val_loss: 0.1127 - val_accuracy: 1.0000\n",
      "Epoch 15/1000\n",
      "23/23 [==============================] - 0s 3ms/step - loss: 0.1048 - accuracy: 1.0000 - val_loss: 0.0995 - val_accuracy: 1.0000\n",
      "Epoch 16/1000\n",
      "23/23 [==============================] - 0s 3ms/step - loss: 0.0885 - accuracy: 1.0000 - val_loss: 0.0764 - val_accuracy: 1.0000\n",
      "Epoch 17/1000\n",
      "23/23 [==============================] - 0s 4ms/step - loss: 0.0744 - accuracy: 0.9944 - val_loss: 0.0651 - val_accuracy: 1.0000\n",
      "Epoch 18/1000\n",
      "23/23 [==============================] - 0s 5ms/step - loss: 0.0631 - accuracy: 0.9986 - val_loss: 0.0542 - val_accuracy: 1.0000\n",
      "Epoch 19/1000\n",
      "23/23 [==============================] - 0s 4ms/step - loss: 0.0529 - accuracy: 1.0000 - val_loss: 0.0464 - val_accuracy: 1.0000\n",
      "Epoch 19: early stopping\n"
     ]
    }
   ],
   "source": [
    "# Train the model\n",
    "\n",
    "batch_size = 32\n",
    "epochs = 1000\n",
    "\n",
    "history = model.fit(X_train_flattened, y_train_hot, batch_size=batch_size, epochs=epochs, validation_data=(X_val_flattened, y_val_hot), callbacks=[callback])"
   ]
  },
  {
   "cell_type": "code",
   "execution_count": 58,
   "id": "90cf8516-4eda-4b50-b451-8c53488a19b5",
   "metadata": {
    "tags": []
   },
   "outputs": [],
   "source": [
    "def plot_training_history(history, save_plot=False, plot_filename=None):\n",
    "    train_accuracy = history.history['accuracy']\n",
    "    train_loss = history.history['loss']\n",
    "    val_accuracy = history.history['val_accuracy']\n",
    "    val_loss = history.history['val_loss']\n",
    "\n",
    "    epochs = range(1, len(train_accuracy) + 1)\n",
    "    df_metrics = pd.DataFrame({'Epoch': epochs,\n",
    "                               'Training Accuracy': train_accuracy,\n",
    "                               'Validation Accuracy': val_accuracy,\n",
    "                               'Training Loss': train_loss,\n",
    "                               'Validation Loss': val_loss})\n",
    "\n",
    "    plt.figure(figsize=(10, 5))\n",
    "\n",
    "    # First y-axis for Accuracy \n",
    "    ax1 = sns.lineplot(x='Epoch', y='Training Accuracy', data=df_metrics, color='navy', label='Training Accuracy')\n",
    "    ax1 = sns.lineplot(x='Epoch', y='Validation Accuracy', data=df_metrics, color='deepskyblue', label='Validation Accuracy')\n",
    "\n",
    "    # Second y-axis for Loss\n",
    "    ax2 = ax1.twinx()\n",
    "    ax2 = sns.lineplot(x='Epoch', y='Training Loss', data=df_metrics, color='darkgreen', label='Training Loss', legend=False)\n",
    "    ax2 = sns.lineplot(x='Epoch', y='Validation Loss', data=df_metrics, color='lightgreen', label='Validation Loss', legend=False)\n",
    "\n",
    "    # Set labels for y-axes\n",
    "    ax1.set_ylabel('Accuracy')\n",
    "    ax2.set_ylabel('Loss')\n",
    "\n",
    "    # Set legends for the lines plotted on each axis\n",
    "    lines_1, labels_1 = ax1.get_legend_handles_labels()\n",
    "    lines_2, labels_2 = ax2.get_legend_handles_labels()\n",
    "    lines = lines_1 + lines_2\n",
    "    labels = labels_1 + labels_2\n",
    "    ax1.legend(lines, labels, loc='center right')\n",
    "\n",
    "    plt.grid(False)\n",
    "\n",
    "    plt.title('Training and Validation Accuracy & Loss')\n",
    "    plt.xlabel('Epoch')\n",
    "\n",
    "    if save_plot and plot_filename:\n",
    "        plt.savefig(plot_filename)\n",
    "\n",
    "    plt.show()\n"
   ]
  },
  {
   "cell_type": "code",
   "execution_count": 59,
   "id": "c886bf71-36af-4247-a0b7-c6beb6e5e896",
   "metadata": {
    "tags": []
   },
   "outputs": [
    {
     "data": {
      "image/png": "[encoded data removed]",
      "text/plain": [
       "<Figure size 1000x500 with 2 Axes>"
      ]
     },
     "metadata": {},
     "output_type": "display_data"
    }
   ],
   "source": [
    "plot_training_history(history, save_plot=True, plot_filename='XXXXX_Loss.png')"
   ]
  },
  {
   "cell_type": "code",
   "execution_count": null,
   "id": "f971591b-2b97-4a94-8fc3-68c65f833479",
   "metadata": {
    "tags": []
   },
   "outputs": [],
   "source": [
    "model.save('./models/model_TH_2.h5')"
   ]
  },
  {
   "cell_type": "code",
   "execution_count": null,
   "id": "0d4c88b1-8984-4842-b2ca-dcff0d07e289",
   "metadata": {},
   "outputs": [],
   "source": []
  },
  {
   "cell_type": "code",
   "execution_count": null,
   "id": "089678ff-07a1-4c5d-b148-d710805fd647",
   "metadata": {},
   "outputs": [],
   "source": []
  },
  {
   "cell_type": "code",
   "execution_count": null,
   "id": "4dffb024-2087-4be2-9d0e-35106b474b2c",
   "metadata": {},
   "outputs": [],
   "source": []
  },
  {
   "cell_type": "markdown",
   "id": "e564f701-c6ca-4445-ba8d-99a7827dd1cd",
   "metadata": {
    "tags": []
   },
   "source": [
    "### TEST"
   ]
  },
  {
   "cell_type": "code",
   "execution_count": 16,
   "id": "25d11174-71b0-413b-90cb-883b7f5d0a5c",
   "metadata": {},
   "outputs": [],
   "source": [
    "def load_and_preprocess_test_data(test_folder):\n",
    "    X_test = []\n",
    "    y_test = []\n",
    "\n",
    "    label_mapping = {}  # Your label mapping here\n",
    "\n",
    "    for label in os.listdir(test_folder):\n",
    "        label_folder = os.path.join(test_folder, label)\n",
    "\n",
    "        if os.path.isdir(label_folder):\n",
    "            for file_name in os.listdir(label_folder):\n",
    "                if file_name.endswith('.npy'):\n",
    "                    data = np.load(os.path.join(label_folder, file_name))\n",
    "                    X_test.append(data)\n",
    "                    y_test.append(label_mapping[label])\n",
    "\n",
    "    X_test = np.array(X_test)\n",
    "    y_test = np.array(y_test)\n",
    "\n",
    "    return X_test, y_test"
   ]
  },
  {
   "cell_type": "code",
   "execution_count": 17,
   "id": "db9c52fa-6031-4f18-ade3-00456350851a",
   "metadata": {
    "tags": []
   },
   "outputs": [],
   "source": [
    "def load_and_preprocess_test_data(test_folder, label_map):\n",
    "    X_test = []\n",
    "    y_test = []\n",
    "\n",
    "    label_mapping = label_map\n",
    "\n",
    "    for label in os.listdir(test_folder):\n",
    "        label_folder = os.path.join(test_folder, label)\n",
    "\n",
    "        if os.path.isdir(label_folder):\n",
    "            for file_name in os.listdir(label_folder):\n",
    "                if file_name.endswith('.npy'):\n",
    "                    data = np.load(os.path.join(label_folder, file_name))\n",
    "                    X_test.append(data)\n",
    "                    y_test.append(label_mapping[label])\n",
    "\n",
    "    X_test = np.array(X_test)\n",
    "    X_test_flattened = reshape_landmarks(X_test)\n",
    "    \n",
    "    y_test = np.array(y_test)\n",
    "\n",
    "    return X_test_flattened, y_test\n"
   ]
  },
  {
   "cell_type": "code",
   "execution_count": 18,
   "id": "0f184e4d-0974-405b-a7fa-547b681a2de8",
   "metadata": {
    "tags": []
   },
   "outputs": [],
   "source": [
    "test_data_folder = 'test_marco/landmarks'"
   ]
  },
  {
   "cell_type": "code",
   "execution_count": 19,
   "id": "23532f22-00a5-46cd-b574-d0149b374d7a",
   "metadata": {
    "tags": []
   },
   "outputs": [],
   "source": [
    "X_test, y_test = load_and_preprocess_test_data(test_data_folder, label_mapping)"
   ]
  },
  {
   "cell_type": "code",
   "execution_count": 20,
   "id": "2d48240f-b88e-43fe-928b-1fdf5bb94af2",
   "metadata": {
    "tags": []
   },
   "outputs": [
    {
     "data": {
      "text/plain": [
       "(62, 24)"
      ]
     },
     "execution_count": 20,
     "metadata": {},
     "output_type": "execute_result"
    }
   ],
   "source": [
    "X_test.shape"
   ]
  },
  {
   "cell_type": "code",
   "execution_count": 21,
   "id": "41213031-5286-49d1-bcfb-e7d642a5194e",
   "metadata": {
    "tags": []
   },
   "outputs": [
    {
     "name": "stdout",
     "output_type": "stream",
     "text": [
      "2/2 [==============================] - 0s 5ms/step\n"
     ]
    }
   ],
   "source": [
    "y_pred = model.predict(X_test)\n",
    "y_pred_classes = np.argmax(y_pred, axis=1)"
   ]
  },
  {
   "cell_type": "code",
   "execution_count": 22,
   "id": "3094aea4-f9a9-4131-b437-66f61c7271c1",
   "metadata": {
    "tags": []
   },
   "outputs": [
    {
     "data": {
      "text/plain": [
       "{'X': 0, 'crane': 1, 'empty': 2, 'squat': 3, 'stand': 4}"
      ]
     },
     "execution_count": 22,
     "metadata": {},
     "output_type": "execute_result"
    }
   ],
   "source": [
    "label_mapping"
   ]
  },
  {
   "cell_type": "code",
   "execution_count": 23,
   "id": "0fd13067-3aa0-4f94-a367-851f7d8ca7ba",
   "metadata": {
    "tags": []
   },
   "outputs": [
    {
     "data": {
      "text/plain": [
       "array([2, 2, 2, 2, 2, 2, 2, 2, 2, 2, 2, 2, 3, 3, 3, 3, 3, 3, 3, 3, 3, 3,\n",
       "       3, 3, 3, 0, 0, 0, 0, 0, 4, 0, 0, 0, 0, 4, 0, 0, 4, 4, 4, 4, 4, 4,\n",
       "       4, 4, 4, 4, 4, 0, 0, 0, 0, 0, 0, 0, 0, 0, 0, 0, 0, 0])"
      ]
     },
     "execution_count": 23,
     "metadata": {},
     "output_type": "execute_result"
    }
   ],
   "source": [
    "y_pred_classes"
   ]
  },
  {
   "cell_type": "code",
   "execution_count": 24,
   "id": "74e17f3f-9398-4427-af8c-787d4cb89cbd",
   "metadata": {
    "tags": []
   },
   "outputs": [
    {
     "data": {
      "image/png": "[encoded data removed]",
      "text/plain": [
       "<Figure size 1000x800 with 1 Axes>"
      ]
     },
     "metadata": {},
     "output_type": "display_data"
    }
   ],
   "source": [
    "from sklearn.metrics import confusion_matrix\n",
    "\n",
    "cm = confusion_matrix(y_test, y_pred_classes)\n",
    "\n",
    "# Get class labels from the label_mapping dictionary\n",
    "class_labels = [label for label, idx in sorted(label_mapping.items(), key=lambda x: x[1])]\n",
    "\n",
    "# Plot the confusion matrix\n",
    "plt.figure(figsize=(10, 8))\n",
    "sns.heatmap(cm, annot=True, fmt='d', cmap='Blues', cbar=False,\n",
    "            xticklabels=class_labels, yticklabels=class_labels)\n",
    "plt.xlabel('Predicted')\n",
    "plt.ylabel('Actual')\n",
    "plt.title('Confusion Matrix / TEST')\n",
    "plt.savefig('cm_1.png')\n",
    "plt.show()"
   ]
  },
  {
   "cell_type": "code",
   "execution_count": null,
   "id": "57357124-6a68-4b1b-b01d-b7e7a11b197b",
   "metadata": {},
   "outputs": [],
   "source": []
  },
  {
   "cell_type": "code",
   "execution_count": null,
   "id": "43822dad-02fa-4e59-bdc1-ada3fcc59efd",
   "metadata": {},
   "outputs": [],
   "source": []
  },
  {
   "cell_type": "code",
   "execution_count": null,
   "id": "d50bc6bd-dffc-49f2-b67a-778c5615d4dd",
   "metadata": {},
   "outputs": [],
   "source": []
  },
  {
   "cell_type": "code",
   "execution_count": null,
   "id": "b28a2fd8-2899-4381-8cf9-650b80f364ba",
   "metadata": {},
   "outputs": [],
   "source": []
  },
  {
   "cell_type": "markdown",
   "id": "40c06b22-de7c-450c-9091-4b875102de26",
   "metadata": {
    "tags": []
   },
   "source": [
    "### Show probabilities"
   ]
  },
  {
   "cell_type": "code",
   "execution_count": null,
   "id": "5bd45ff0-0500-4125-9f13-497dfc258d2c",
   "metadata": {
    "tags": []
   },
   "outputs": [],
   "source": [
    "test_landmarks = 'test_marco/landmarks'"
   ]
  },
  {
   "cell_type": "code",
   "execution_count": null,
   "id": "09318758-e84f-4af0-960b-eb137cba82e0",
   "metadata": {
    "tags": []
   },
   "outputs": [],
   "source": [
    "X_test, _ = load_and_preprocess_test_data(test_landmarks, label_mapping)"
   ]
  },
  {
   "cell_type": "code",
   "execution_count": null,
   "id": "deba6679-4d79-4a67-80ce-55458163938b",
   "metadata": {
    "tags": []
   },
   "outputs": [],
   "source": [
    "y_pred = model.predict(X_test)"
   ]
  },
  {
   "cell_type": "code",
   "execution_count": null,
   "id": "b170bdd7-ba74-4972-a574-fb687abe0ce2",
   "metadata": {
    "tags": []
   },
   "outputs": [],
   "source": [
    "test_pictures = 'test_marco/pictures'"
   ]
  },
  {
   "cell_type": "code",
   "execution_count": null,
   "id": "fb423a02-5fbd-4c6d-b5bc-ebfdf0262cd8",
   "metadata": {
    "tags": []
   },
   "outputs": [],
   "source": [
    "from PIL import Image\n",
    "\n",
    "def load_pics(test_folder):\n",
    "    pic_list = []\n",
    "\n",
    "    for label in os.listdir(test_folder):\n",
    "        label_folder = os.path.join(test_folder, label)\n",
    "        \n",
    "        if os.path.isdir(label_folder):\n",
    "            for file_name in os.listdir(label_folder):\n",
    "                if file_name.endswith('.jpg'):\n",
    "                    image = Image.open(os.path.join(label_folder, file_name))\n",
    "                    pic_list.append(image)\n",
    "\n",
    "    return pic_list"
   ]
  },
  {
   "cell_type": "code",
   "execution_count": null,
   "id": "995e6190-2658-432b-84f9-8fad5f62abba",
   "metadata": {
    "tags": []
   },
   "outputs": [],
   "source": [
    "pic_list = load_pics(test_pictures)"
   ]
  },
  {
   "cell_type": "code",
   "execution_count": null,
   "id": "f27ee9db-80ab-40e6-a1cd-62653208573f",
   "metadata": {
    "tags": []
   },
   "outputs": [],
   "source": [
    "type(y_pred)"
   ]
  },
  {
   "cell_type": "code",
   "execution_count": null,
   "id": "27bca9db-97c4-4015-8a4e-228a24eb62ac",
   "metadata": {},
   "outputs": [],
   "source": []
  },
  {
   "cell_type": "code",
   "execution_count": null,
   "id": "9586b093-bf23-460d-912f-e2e116e08998",
   "metadata": {
    "tags": []
   },
   "outputs": [],
   "source": [
    "import os\n",
    "import numpy as np\n",
    "from PIL import Image\n",
    "\n",
    "def load_and_predict_images_and_landmarks(image_folder, landmark_folder, label_map):\n",
    "    X_images = []\n",
    "    X_landmarks = []\n",
    "    y = []\n",
    "\n",
    "    label_mapping = label_map\n",
    "\n",
    "    for label in os.listdir(image_folder):\n",
    "        image_label_folder = os.path.join(image_folder, label)\n",
    "        landmark_label_folder = os.path.join(landmark_folder, label)\n",
    "\n",
    "        if os.path.isdir(image_label_folder) and os.path.isdir(landmark_label_folder):\n",
    "            for image_name in os.listdir(image_label_folder):\n",
    "                if image_name.endswith('.jpg'):\n",
    "                    image = Image.open(os.path.join(image_label_folder, image_name))\n",
    "                    X_images.append(image)\n",
    "\n",
    "                    landmark_name = image_name.replace('.jpg', '.npy')\n",
    "                    landmark_path = os.path.join(landmark_label_folder, landmark_name)\n",
    "                    landmark_data = np.load(landmark_path)\n",
    "                    X_landmarks.append(landmark_data)\n",
    "\n",
    "                    y.append(label_mapping[label])\n",
    "\n",
    "    X_landmarks = np.array(X_landmarks)\n",
    "    X_landmarks_flattened = reshape_landmarks(X_landmarks)\n",
    "    \n",
    "    y = np.array(y)\n",
    "\n",
    "    return X_images, X_landmarks_flattened, y\n",
    "\n",
    "\n",
    "label_mapping = label_mapping\n",
    "\n",
    "# Load images, landmarks, and perform prediction\n",
    "image_folder = 'test_marco/pictures'\n",
    "landmark_folder = 'test_marco/landmarks'\n",
    "X_images, X_landmarks, y_actuals = load_and_predict_images_and_landmarks(image_folder, landmark_folder, label_mapping)\n"
   ]
  },
  {
   "cell_type": "code",
   "execution_count": null,
   "id": "7b1d27c8-22b1-4ff4-be0e-5d8b2b300517",
   "metadata": {
    "tags": []
   },
   "outputs": [],
   "source": [
    "X_landmarks.shape"
   ]
  },
  {
   "cell_type": "code",
   "execution_count": null,
   "id": "d9fca2d9-77f2-4128-acd1-a28d819be93f",
   "metadata": {
    "tags": []
   },
   "outputs": [],
   "source": [
    "y_pred_test = model.predict(X_landmarks)\n",
    "y_pred_classes_test = np.argmax(y_pred_test, axis=1)"
   ]
  },
  {
   "cell_type": "code",
   "execution_count": null,
   "id": "7a12a469-96ca-45d2-b495-17cb39f664ae",
   "metadata": {
    "tags": []
   },
   "outputs": [],
   "source": [
    "y_pred_test"
   ]
  },
  {
   "cell_type": "code",
   "execution_count": null,
   "id": "a2d1bfb1-d5a9-4971-922b-eb222d416be4",
   "metadata": {
    "tags": []
   },
   "outputs": [],
   "source": [
    "label_mapping"
   ]
  },
  {
   "cell_type": "code",
   "execution_count": null,
   "id": "80dea1b6-4fc6-4c69-988b-5120df0a8ce4",
   "metadata": {
    "tags": []
   },
   "outputs": [],
   "source": [
    "num_images = len(X_images)"
   ]
  },
  {
   "cell_type": "code",
   "execution_count": null,
   "id": "84830d88-3478-49df-a53d-050a282ea836",
   "metadata": {
    "tags": []
   },
   "outputs": [],
   "source": [
    "y_pred.shape"
   ]
  },
  {
   "cell_type": "code",
   "execution_count": null,
   "id": "61433225-1b9c-44c1-bf2b-536a843c30fb",
   "metadata": {},
   "outputs": [],
   "source": []
  },
  {
   "cell_type": "code",
   "execution_count": null,
   "id": "be76bd50-2403-4f86-a632-841b8721f451",
   "metadata": {},
   "outputs": [],
   "source": []
  },
  {
   "cell_type": "code",
   "execution_count": null,
   "id": "b52b2649-4f8d-42ea-a094-d42bf2fdddf0",
   "metadata": {},
   "outputs": [],
   "source": []
  },
  {
   "cell_type": "code",
   "execution_count": null,
   "id": "0aa5a30a-908f-49bc-94dc-a9e6c6b9f301",
   "metadata": {
    "tags": []
   },
   "outputs": [],
   "source": [
    "len(X_images)"
   ]
  },
  {
   "cell_type": "code",
   "execution_count": null,
   "id": "7aa49ace-450d-458f-9f53-cce87422ed4a",
   "metadata": {},
   "outputs": [],
   "source": []
  },
  {
   "cell_type": "code",
   "execution_count": null,
   "id": "b9af8332-bf69-4a33-887d-5a92df80e97d",
   "metadata": {},
   "outputs": [],
   "source": []
  },
  {
   "cell_type": "code",
   "execution_count": null,
   "id": "cbfaf21e-067c-4673-afa6-db30ec4c6f33",
   "metadata": {
    "tags": []
   },
   "outputs": [],
   "source": [
    "# Plotting\n",
    "num_results = y_pred.shape[0]\n",
    "num_columns = 2  # Number of columns (1 for the bar plot, 1 for the image)\n",
    "subplot_width_ratio = 0.4  # Adjust this value to control the width of the bar plot side\n",
    "subplot_height = 3  # Adjust this value to control the height of each subplot\n",
    "num_rows = num_results\n",
    "fig, axs = plt.subplots(num_rows, num_columns, figsize=(12, num_rows * subplot_height),\n",
    "                        gridspec_kw={'width_ratios': [subplot_width_ratio, 1-subplot_width_ratio]})\n",
    "\n",
    "for i in range(num_results):\n",
    "    ax_bar = axs[i, 0]\n",
    "    ax_img = axs[i, 1]\n",
    "\n",
    "    # Get class labels and predicted probabilities for the current result\n",
    "    class_labels = list(label_mapping.keys())\n",
    "    class_indices = list(label_mapping.values())\n",
    "    predicted_probs = y_pred[i]\n",
    "    actual_label = class_labels[y_actuals[i]]  # Get the actual label based on y_actuals\n",
    "\n",
    "    # Plot bars for each class\n",
    "    bars = ax_bar.barh(class_indices, predicted_probs, color='blue')\n",
    "\n",
    "    # Set y-axis limits to always show 0 to 1 range\n",
    "    ax_bar.set_xlim(0, 1)\n",
    "\n",
    "    # Set y-axis labels and ticks\n",
    "    ax_bar.set_yticks(class_indices)\n",
    "    ax_bar.set_yticklabels(class_labels)\n",
    "\n",
    "    # Set x-axis label\n",
    "    ax_bar.set_xlabel('Predicted Probability')\n",
    "\n",
    "    # Set bar plot title with actual label\n",
    "    ax_bar.set_title(f\"Result {i + 1} for $\\mathbf{{{actual_label}}}$\")\n",
    "\n",
    "    # Display the image\n",
    "    ax_img.imshow(X_images[i])\n",
    "    ax_img.axis('off')  # Turn off axis numbers and ticks\n",
    "    \n",
    "    ax_bar.axvline(x=0.8, color='red', linestyle='dotted', linewidth=3)\n",
    "\n",
    "plt.tight_layout()\n",
    "#plt.savefig('prediction_probs.png')\n",
    "plt.show()"
   ]
  },
  {
   "cell_type": "code",
   "execution_count": null,
   "id": "44f921b5-2fcf-4800-ae2b-aa744027f6f1",
   "metadata": {},
   "outputs": [],
   "source": []
  }
 ],
 "metadata": {
  "kernelspec": {
   "display_name": "Python 3 (ipykernel)",
   "language": "python",
   "name": "python3"
  },
  "language_info": {
   "codemirror_mode": {
    "name": "ipython",
    "version": 3
   },
   "file_extension": ".py",
   "mimetype": "text/x-python",
   "name": "python",
   "nbconvert_exporter": "python",
   "pygments_lexer": "ipython3",
   "version": "3.10.12"
  }
 },
 "nbformat": 4,
 "nbformat_minor": 5
}
