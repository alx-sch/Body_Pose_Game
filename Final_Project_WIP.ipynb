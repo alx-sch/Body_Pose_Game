{
 "cells": [
  {
   "cell_type": "markdown",
   "id": "8c3b6a08-d624-4169-a2e2-3d30517ba932",
   "metadata": {},
   "source": [
    "### Final Project"
   ]
  },
  {
   "cell_type": "markdown",
   "id": "a3d30593-12a0-4fd3-9369-e9c80bb96a36",
   "metadata": {
    "tags": []
   },
   "source": [
    "#### The Idea"
   ]
  },
  {
   "cell_type": "markdown",
   "id": "a934ec69-24ce-4de4-8f87-4d9189160e0e",
   "metadata": {},
   "source": [
    "💃  **Dance Fit** 🕺 \n",
    "  \n",
    "A game! \"Dance\" yourself into position and score points!\n",
    "\n",
    "**MVP:**   \n",
    "A game! \"Dance\" yourself into the position shown and score points!  \n",
    "Analyzes your position in RL via videofeed.\n",
    "\n",
    "**(If time allows):**\n",
    "* Two-player mode (same video stream)\n",
    "* Add your own positions (would require pipeline for saving + preprocessing, (re)-trainign model and apply it) -> prob not sth to show live as this might take some time, but would make it customizable (use it for Yoga etc).\n",
    "* Upgrade to static 'position' to 'move'\n",
    "* Deploy online (Streamlit) --> CPU in free plan sufficient? \n",
    "\n",
    "    \n",
    "**Technical Outline**\n",
    "\n",
    "Position Detection using <a href=\"https://developers.google.com/mediapipe/solutions/vision/pose_landmarker.html\">MediaPipe's Pose Landmark Detection<a>.\n",
    "Check <a href=\"https://mediapipe-studio.webapps.google.com/studio/demo/pose_landmarker\">this<a> for a cool demonstration :)\n",
    "    \n",
    "Might need to use faster/simpler <a href=\"https://github.com/maria-studiodialect/move_pose-detection\">pose detection models<a>. Check demos <a href=\"https://storage.googleapis.com/tfjs-models/demos/pose-detection/index.html?model=movenet\">here<a>.\n",
    "    \n",
    "Model should recognize / classify 10 simple positions.\n",
    "\n"
   ]
  },
  {
   "cell_type": "code",
   "execution_count": 5,
   "id": "53300687-4458-4948-b9fa-57a76654c0e3",
   "metadata": {
    "tags": []
   },
   "outputs": [
    {
     "name": "stdout",
     "output_type": "stream",
     "text": [
      "Warning! No module named 'sounddevice'\n",
      "Warning! No module named 'keras.layers.convolutional'\n"
     ]
    }
   ],
   "source": [
    "import sys\n",
    "import cv2 as cv2\n",
    "import os\n",
    "import numpy as np\n",
    "import mediapipe as mp\n",
    "import pyshine as ps\n",
    "from capture_functions import mediapipe_detection, draw_styled_landmarks, extract_keypoints, capture_video"
   ]
  },
  {
   "cell_type": "code",
   "execution_count": 6,
   "id": "b5ca6c17-aa4b-42c1-8004-8726c992045e",
   "metadata": {
    "tags": []
   },
   "outputs": [],
   "source": [
    "# Suppress unnecessary Tensorflow messages\n",
    "os.environ['TF_CPP_MIN_LOG_LEVEL'] = '2'"
   ]
  },
  {
   "cell_type": "code",
   "execution_count": 8,
   "id": "6910008e-9c74-4afd-a81f-1c2c151fa9f0",
   "metadata": {
    "tags": []
   },
   "outputs": [],
   "source": [
    "mp_holistic = mp.solutions.holistic  # Holistic model\n",
    "mp_drawing = mp.solutions.drawing_utils  # Drawing utilities"
   ]
  },
  {
   "cell_type": "code",
   "execution_count": 19,
   "id": "fed25fca-9fdf-4733-977d-3f95a3687fcb",
   "metadata": {
    "tags": []
   },
   "outputs": [],
   "source": [
    " # Set global variables\n",
    "ACTION = \"record\"\n",
    "DATA_PATH = \"/Users/alexanderschenk/SPICED/04_my-code/xx_project/data/\"\n",
    "\n",
    "# The script will perform 200\n",
    "NO_SEQUENCES = 200\n",
    "LENGTH_SEQUENCES = 30"
   ]
  },
  {
   "cell_type": "code",
   "execution_count": 25,
   "id": "c698e638-f163-4215-a0a8-6a45680ed4b7",
   "metadata": {
    "tags": []
   },
   "outputs": [],
   "source": [
    "# Create folders for every frame\n",
    "\n",
    "if os.path.exists(DATA_PATH + ACTION):\n",
    "    print(\"Folder already exists.\")\n",
    "else:\n",
    "    for sequence in range(NO_SEQUENCES):\n",
    "        os.makedirs(os.path.join(DATA_PATH, ACTION, str(sequence)))\n",
    "    "
   ]
  },
  {
   "cell_type": "code",
   "execution_count": 27,
   "id": "80076e72-e7f4-4986-a7a3-03e881b33e52",
   "metadata": {
    "tags": []
   },
   "outputs": [],
   "source": [
    "# Create a folder for the Video\n",
    "os.makedirs(os.path.join(DATA_PATH, ACTION, \"Video\"))"
   ]
  },
  {
   "cell_type": "code",
   "execution_count": 47,
   "id": "bb3b9fb3-7a53-4ff0-a50f-97dcf3a03d0d",
   "metadata": {},
   "outputs": [
    {
     "data": {
      "text/plain": [
       "range(0, 2)"
      ]
     },
     "execution_count": 47,
     "metadata": {},
     "output_type": "execute_result"
    }
   ],
   "source": [
    "# Set MediaPipe model\n",
    "range(2)\n"
   ]
  },
  {
   "cell_type": "code",
   "execution_count": 42,
   "id": "7e676e94-b2f0-448a-94a3-0284c3b1ad92",
   "metadata": {},
   "outputs": [],
   "source": [
    "#ACTION = sys.argv[1]\n",
    "\n",
    "ACTION = \"stand   squad\"\n",
    "\n",
    "\n",
    "action_string = ACTION\n",
    "action_list = action_string.split()  # Split the string into a list\n"
   ]
  },
  {
   "cell_type": "code",
   "execution_count": 43,
   "id": "901cf943-ac11-4f59-a184-60b6b7f4f3b1",
   "metadata": {},
   "outputs": [
    {
     "data": {
      "text/plain": [
       "['stand', 'squad']"
      ]
     },
     "execution_count": 43,
     "metadata": {},
     "output_type": "execute_result"
    }
   ],
   "source": [
    "action_list"
   ]
  },
  {
   "cell_type": "code",
   "execution_count": null,
   "id": "d6039b88-3ca4-4e6f-8f37-513f88dc9db3",
   "metadata": {},
   "outputs": [],
   "source": [
    "#ACTION = ['stand', 'squat']\n",
    "\n",
    "\n",
    "#if len(sys.argv) > 1:\n",
    "    action_string = sys.argv[1]\n",
    "    action_list = action_string.split()  # Split the string into a list\n",
    "    # Now you have a list of individual actions in action_list\n",
    "else:\n",
    "    # Handle case where no arguments are provided\n",
    "    pass"
   ]
  },
  {
   "cell_type": "code",
   "execution_count": 46,
   "id": "ddae41cb-f824-417e-9211-8495d5d47aba",
   "metadata": {
    "tags": []
   },
   "outputs": [
    {
     "data": {
      "text/plain": [
       "'aaa'"
      ]
     },
     "execution_count": 46,
     "metadata": {},
     "output_type": "execute_result"
    }
   ],
   "source": [
    "os.path.join(str('aaa'))"
   ]
  },
  {
   "cell_type": "code",
   "execution_count": null,
   "id": "8d1ab9d7-a62a-4b0b-94d7-732af00eb3ea",
   "metadata": {},
   "outputs": [],
   "source": []
  }
 ],
 "metadata": {
  "kernelspec": {
   "display_name": "Python 3 (ipykernel)",
   "language": "python",
   "name": "python3"
  },
  "language_info": {
   "codemirror_mode": {
    "name": "ipython",
    "version": 3
   },
   "file_extension": ".py",
   "mimetype": "text/x-python",
   "name": "python",
   "nbconvert_exporter": "python",
   "pygments_lexer": "ipython3",
   "version": "3.10.12"
  }
 },
 "nbformat": 4,
 "nbformat_minor": 5
}
