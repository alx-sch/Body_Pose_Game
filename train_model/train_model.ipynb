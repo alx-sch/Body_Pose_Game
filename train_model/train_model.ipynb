{
 "cells": [
  {
   "cell_type": "markdown",
   "id": "2f9c5527-7033-4a18-b8d3-4faaa3822852",
   "metadata": {},
   "source": [
    "## 1. Objective"
   ]
  },
  {
   "cell_type": "markdown",
   "id": "f029a5b3-84b6-4f79-8e64-3fbfaaa1cc55",
   "metadata": {
    "tags": []
   },
   "source": [
    "This notebook utilizes training and test data collected via '**collect_data.py**' to develop and evaluate the performance of a sequential neural network model for multiclass classification of specific poses based on body pose landmarks. The resulting model is intended for use in pose detection within the game \"STRIKE A POSE!\" (as implemented in '**play.py**')."
   ]
  },
  {
   "cell_type": "markdown",
   "id": "749159f3-95d7-48d9-8df7-107696675adc",
   "metadata": {
    "tags": [],
    "toc-hr-collapsed": true
   },
   "source": [
    "## 2. Importing Modules "
   ]
  },
  {
   "cell_type": "code",
   "execution_count": 1,
   "id": "5c122425-0fdb-4289-947a-075920f4adda",
   "metadata": {},
   "outputs": [
    {
     "name": "stderr",
     "output_type": "stream",
     "text": [
      "2023-09-20 22:56:21.147641: I tensorflow/core/platform/cpu_feature_guard.cc:182] This TensorFlow binary is optimized to use available CPU instructions in performance-critical operations.\n",
      "To enable the following instructions: AVX2 FMA, in other operations, rebuild TensorFlow with the appropriate compiler flags.\n"
     ]
    }
   ],
   "source": [
    "import os # Operating system-related functions\n",
    "import numpy as np # NumPy for numerical computations\n",
    "import pandas as pd # for DataFrame\n",
    "from PIL import Image # Image processing\n",
    "\n",
    "# Data visualization\n",
    "import matplotlib.pyplot as plt\n",
    "import seaborn as sns\n",
    "\n",
    "# Machine learning and deep learning libraries\n",
    "from sklearn.model_selection import train_test_split\n",
    "import tensorflow as tf\n",
    "from tensorflow.keras.models import Sequential, load_model\n",
    "from keras.callbacks import EarlyStopping\n",
    "from sklearn.metrics import confusion_matrix\n",
    "from keras.utils import to_categorical # for one-hot encoding"
   ]
  },
  {
   "cell_type": "markdown",
   "id": "eee8133e-eaac-4906-921f-8f19e83e5913",
   "metadata": {
    "tags": []
   },
   "source": [
    "## 3. Functions "
   ]
  },
  {
   "cell_type": "markdown",
   "id": "6e7370c6-73d1-458b-a568-3816f519859b",
   "metadata": {
    "tags": []
   },
   "source": [
    "### 3.1 Functions for Preprocessing Training Data"
   ]
  },
  {
   "cell_type": "code",
   "execution_count": 2,
   "id": "363443a2-f30f-4bd0-a587-a7551d4c2c92",
   "metadata": {
    "tags": []
   },
   "outputs": [],
   "source": [
    "# This function augments data by pertubing coordinates.\n",
    "# It accepts a list of coordinates as input and introduces random translation and noise to each coordinate. The result is a set of perturbed coordinates returned as a NumPy array.\n",
    "\n",
    "def perturbate_coordinates(coordinates, translation_range=0.05, noise_std=0.01):\n",
    "    # Initialize an empty list to store perturbed coordinates.\n",
    "    perturbed_coordinates = []\n",
    "    \n",
    "    # Loop through each coordinate in the input 'coordinates' list.\n",
    "    for coord in coordinates:\n",
    "        # Generate a random translation vector within the specified range\n",
    "        translation = np.random.uniform(-translation_range, translation_range, size=2)\n",
    "        \n",
    "        # Translate the current coordinate by adding the random translation\n",
    "        translated_coord = coord + translation\n",
    "        \n",
    "        # Generate random noise to add to the translated coordinate\n",
    "        noise = np.random.normal(0, noise_std, size=2)\n",
    "        \n",
    "        # Add the noise to the translated coordinate to perturb it further\n",
    "        perturbed_coord = translated_coord + noise\n",
    "        \n",
    "        # Append the perturbed coordinate to the list of perturbed_coordinates\n",
    "        perturbed_coordinates.append(perturbed_coord)\n",
    "        \n",
    "     # Convert the list of perturbed coordinates into a NumPy array and return it\n",
    "    return np.array(perturbed_coordinates)"
   ]
  },
  {
   "cell_type": "code",
   "execution_count": 3,
   "id": "cc5aa95c-ad41-4bae-accf-cb94dcea884d",
   "metadata": {
    "tags": []
   },
   "outputs": [],
   "source": [
    "# This function creates a label mapping dictionary based on the subfolders found within the 'landmarks_folder'.\n",
    "# The resulting dictionary provides a convenient way to encode categorical labels as integers for further processing, such as one-hot encoding. \n",
    "\n",
    "def create_label_mapping(landmarks_folder):\n",
    "    # Create a list of labels from subfolders (excluding '.DS_Store' if present)\n",
    "    label_list = [label for label in os.listdir(landmarks_folder) if label != '.DS_Store']\n",
    "\n",
    "    # Create a dictionary with integer labels (used for one-hot encoding)\n",
    "    label_mapping = {}\n",
    "    for code, label in enumerate(sorted(label_list)):\n",
    "        label_mapping[label] = code\n",
    "\n",
    "    return label_mapping"
   ]
  },
  {
   "cell_type": "code",
   "execution_count": 4,
   "id": "40dd1aa2-0048-4f91-bdc4-e9a82ba96a0b",
   "metadata": {
    "tags": []
   },
   "outputs": [],
   "source": [
    "# This function loads and augments landmarks data.\n",
    "# It takes a folder containing landmark coordinate data as input, along with optional parameters for augmentation.\n",
    "# The function returns the augmented landmark coordinates as a NumPy array 'X' and their corresponding labels as a NumPy array 'y'.\n",
    "\n",
    "def load_and_augment_landmarks(landmarks_folder, fold_expansion = 0, translation_range=0.05, noise_std=0.01):\n",
    "    # Initialize empty lists to store data and labels\n",
    "    X = []\n",
    "    y = []\n",
    "    \n",
    "    # Loop through subfolders in the input 'landmarks_folder'\n",
    "    for pose_folder in os.listdir(landmarks_folder):\n",
    "        if not pose_folder.startswith('.'):  # Ignore hidden files\n",
    "            pose_label = label_mapping.get(pose_folder)  # Use subfolder names as pose labels\n",
    "            pose_folder_path = os.path.join(landmarks_folder, pose_folder) # Construct full path to the pose folder\n",
    "\n",
    "            # Loop through files in the pose folder\n",
    "            for file in os.listdir(pose_folder_path):\n",
    "                if file.endswith('.npy'):  # Only check for '.npy' files\n",
    "                    landmark_coordinates = np.load(os.path.join(pose_folder_path, file))  # Load landmark coordinates from file\n",
    "\n",
    "                    # Append the original landmark coordinates and label to the data lists\n",
    "                    X.append(landmark_coordinates)\n",
    "                    y.append(pose_label)\n",
    "                    \n",
    "                    # Perform data augmentation 'fold_expansion' times with input parameters and append the pertubated landmark coordinates to data lists\n",
    "                    for _ in range(fold_expansion):\n",
    "                        perturbed_landmarks = perturbate_coordinates(landmark_coordinates, translation_range, noise_std)\n",
    "                        X.append(perturbed_landmarks)\n",
    "                        y.append(pose_label)\n",
    "\n",
    "     # Convert data lists to NumPy arrays\n",
    "    X = np.array(X)\n",
    "    y = np.array(y)\n",
    "    \n",
    "    return X, y"
   ]
  },
  {
   "cell_type": "code",
   "execution_count": 5,
   "id": "b64f4860-c0ac-4040-a1b0-8a1094aa3f8b",
   "metadata": {
    "tags": []
   },
   "outputs": [],
   "source": [
    "\"\"\"\n",
    "Function to flatten input data X before model training.\n",
    "It takes a 3D numpy array 'X' representing landmark data, where 'num_samples' is the number of samples, \n",
    "'num_landmarks' is the number of landmarks in each sample, and 'num_dimensions' is the number of dimensions (2 for x and y coordinates).\n",
    "\n",
    "It reshapes the input data by flattening the 'num_landmarks' and 'num_dimensions' dimensions into a single\n",
    "dimension while preserving the 'num_samples' dimension. The resulting reshaped data has a shape of (num_samples, num_landmarks * num_dimensions).\n",
    "\n",
    "Example:\n",
    "If 'X' originally has a shape of (100, 10, 2), representing 100 samples, each with 10 landmarks in 2D space,\n",
    "calling 'reshape_landmarks(X)' will return data with a shape of (100, 20), where each sample has been flattened\n",
    "into a 1D array of 20 values.\n",
    "\"\"\"\n",
    "\n",
    "def reshape_landmarks(X):\n",
    "    num_samples, num_landmarks, num_dimensions = X.shape\n",
    "    X_reshaped = X.reshape(num_samples, num_landmarks * num_dimensions)\n",
    "    \n",
    "    return X_reshaped"
   ]
  },
  {
   "cell_type": "markdown",
   "id": "7f57a444-d0ed-45e1-b2f2-93833e308d6c",
   "metadata": {
    "tags": []
   },
   "source": [
    "### 3.2 Functions for Model Training"
   ]
  },
  {
   "cell_type": "code",
   "execution_count": 6,
   "id": "7b9bf521-5ffd-4824-9595-48fd5817e3fd",
   "metadata": {
    "tags": []
   },
   "outputs": [],
   "source": [
    "\"\"\"\n",
    "Function that plots training and validation performance metrics (accuracy and loss) over epochs.\n",
    "\n",
    "Args:\n",
    "    - history (keras.callbacks.History): The history object obtained from training a Keras model.\n",
    "    - save_plot (bool): Whether to save the plot to a file.\n",
    "    - plot_filename (str): The filename/path to use when saving the plot.\n",
    "\n",
    "Returns:\n",
    "    - None (shows and saves (optional) plot).\n",
    "\n",
    "Description:\n",
    "    This function takes the training history of a Keras model as input and generates a plot to visualize the model's\n",
    "    training and validation accuracy as well as training and validation loss over epochs. The input 'history' object\n",
    "    typically contains metrics recorded during the training process.\n",
    "\n",
    "    The function uses Seaborn and Matplotlib for plotting. It creates two y-axes, one for accuracy and another for loss,\n",
    "    to better visualize these metrics together.\n",
    "\n",
    "    If 'save_plot' is set to True and 'plot_filename' is provided, the plot is saved as an image file with the specified\n",
    "    filename.\n",
    "\n",
    "Example:\n",
    "    To plot the training history of a model (e.g. 'history = model.fit(....)'), you can call this function with the 'history' object:\n",
    "    plot_training_history(history)\n",
    "\n",
    "    You can also save the plot to a file:\n",
    "    plot_training_history(history, save_plot=True, plot_filename=\"model_performance.png\")\n",
    "    \"\"\"\n",
    "\n",
    "def plot_training_history(history, save_plot=False, plot_filename=\"Model_Performance.png\"):\n",
    "    \n",
    "    # Extract training and validation metrics from the 'history' object\n",
    "    train_accuracy = history.history['accuracy']\n",
    "    train_loss = history.history['loss']\n",
    "    val_accuracy = history.history['val_accuracy']\n",
    "    val_loss = history.history['val_loss']\n",
    "\n",
    "    # Create a DataFrame to store metrics along with epochs\n",
    "    epochs = range(1, len(train_accuracy) + 1)\n",
    "    df_metrics = pd.DataFrame({'Epoch': epochs,\n",
    "                               'Training Accuracy': train_accuracy,\n",
    "                               'Validation Accuracy': val_accuracy,\n",
    "                               'Training Loss': train_loss,\n",
    "                               'Validation Loss': val_loss})\n",
    "\n",
    "    # Create a figure for plotting\n",
    "    plt.figure(figsize=(10, 5))\n",
    "\n",
    "    # Plot accuracy on the first y-axis\n",
    "    ax1 = sns.lineplot(x='Epoch', y='Training Accuracy', data=df_metrics, color='navy', label='Training Accuracy')\n",
    "    ax1 = sns.lineplot(x='Epoch', y='Validation Accuracy', data=df_metrics, color='deepskyblue', label='Validation Accuracy')\n",
    "\n",
    "    # Create a second y-axis for loss\n",
    "    ax2 = ax1.twinx()\n",
    "    ax2 = sns.lineplot(x='Epoch', y='Training Loss', data=df_metrics, color='darkgreen', label='Training Loss', legend=False)\n",
    "    ax2 = sns.lineplot(x='Epoch', y='Validation Loss', data=df_metrics, color='lightgreen', label='Validation Loss', legend=False)\n",
    "\n",
    "    # Set labels for y-axes\n",
    "    ax1.set_ylabel('Accuracy')\n",
    "    ax2.set_ylabel('Loss')\n",
    "\n",
    "    # Set legends for the lines plotted on each axis\n",
    "    lines_1, labels_1 = ax1.get_legend_handles_labels()\n",
    "    lines_2, labels_2 = ax2.get_legend_handles_labels()\n",
    "    lines = lines_1 + lines_2\n",
    "    labels = labels_1 + labels_2\n",
    "    ax1.legend(lines, labels, loc='center right')\n",
    "\n",
    "    # Remove grid lines\n",
    "    plt.grid(False)\n",
    "\n",
    "    # Set plot title and labels\n",
    "    plt.title('Training and Validation Accuracy & Loss')\n",
    "    plt.xlabel('Epoch')\n",
    "    \n",
    "    # Optional: Save the plot to a file\n",
    "    if save_plot and plot_filename:\n",
    "        plt.savefig(plot_filename)\n",
    "\n",
    "    # Display the plot\n",
    "    plt.show()"
   ]
  },
  {
   "cell_type": "markdown",
   "id": "5ce4d951-6841-489b-a0b8-646c0668c299",
   "metadata": {
    "tags": []
   },
   "source": [
    "### 3.3 Functions for Testing"
   ]
  },
  {
   "cell_type": "code",
   "execution_count": 7,
   "id": "c1ea32c6-e8da-499d-9188-b6073354f1a4",
   "metadata": {
    "tags": []
   },
   "outputs": [],
   "source": [
    "\"\"\"\n",
    "Load and preprocess test data from a specified folder for model prediction using the 'create_label_mapping' and 'reshape_landmarks' functions.\n",
    "\n",
    "Args:\n",
    "    - test_folder (str): The path to the folder containing test data (landmark coordinates).\n",
    "\n",
    "Returns:\n",
    "    - X_test (numpy.ndarray): An array of test data samples (flattened landmark coordinate data).\n",
    "    - y_test (numpy.ndarray): An array of corresponding labels for the test data.\n",
    "    - label_mapping as returned by function 'create_label_mapping'.\n",
    "\n",
    "Note: This function assumes that the test data is stored in the following format (as generated by collect_data.py):\n",
    "    - Each class/category has its own subfolder within the 'test_folder'.\n",
    "    - Each subfolder contains '.npy' files, which are NumPy array files.\n",
    "    - The 'create_label_mapping' function is used to create a mapping from class names to labels.\n",
    "\"\"\"\n",
    "\n",
    "def load_and_preprocess_test_data(test_folder):\n",
    "    \n",
    "    # Initialize empty lists to store test data and labels\n",
    "    X_test = []\n",
    "    y_test = []\n",
    "    \n",
    "    # Create a label mapping based on the subfolders of the 'test_folder'\n",
    "    label_mapping = create_label_mapping(test_folder)  \n",
    "\n",
    "    # Iterate through each subfolder (corresponding to a class) in 'test_folder'\n",
    "    for label in os.listdir(test_folder):\n",
    "        label_folder = os.path.join(test_folder, label)\n",
    "\n",
    "        # Check if the item in 'test_folder' is a subfolder\n",
    "        if os.path.isdir(label_folder):\n",
    "            # Iterate through files in the subfolder\n",
    "            for file_name in os.listdir(label_folder):\n",
    "                 # Check if the file is a NumPy arrray\n",
    "                if file_name.endswith('.npy'):\n",
    "                    # Load  data from file\n",
    "                    data = np.load(os.path.join(label_folder, file_name))\n",
    "                    \n",
    "                    # Append the data and its corresponding label to the lists\n",
    "                    X_test.append(data)\n",
    "                    y_test.append(label_mapping[label])\n",
    "                    \n",
    "    # Convert lists to NumPy arrays\n",
    "    X_test = np.array(X_test)\n",
    "    y_test = np.array(y_test)\n",
    "    \n",
    "    # Flatten the data so it can be used as input for model prediction.\n",
    "    X_test_flattened = reshape_landmarks(X_test)\n",
    "    \n",
    "    return X_test_flattened, y_test, label_mapping"
   ]
  },
  {
   "cell_type": "code",
   "execution_count": 8,
   "id": "321e8672-7c12-446e-90b8-0fb231f3bd60",
   "metadata": {
    "tags": []
   },
   "outputs": [],
   "source": [
    "\"\"\"\n",
    "Plot a confusion matrix to visualize model performance.\n",
    "\n",
    "Args:\n",
    "    - y_true (numpy.ndarray): The true class labels.\n",
    "    - y_pred (numpy.ndarray): The predicted class labels.\n",
    "    - label_mapping (dict): A dictionary mapping class names to class integers.\n",
    "    - save_plot (bool, optional): Whether to save the plot as an image.\n",
    "    - filename (str, optional): The filename to use when saving the plot.\n",
    "\n",
    "Returns:\n",
    "    - None (shows and saves (optional) plot).\n",
    "    \"\"\"\n",
    "def plot_confusion_matrix(y_true, y_pred, label_mapping, save_plot=False, filename='confusion_matrix.png'):\n",
    "    \n",
    "    # Calculate the confusion matrix\n",
    "    cm = confusion_matrix(y_true, y_pred)\n",
    "\n",
    "    # Get class labels from the label_mapping dictionary\n",
    "    class_labels = [label for label, idx in sorted(label_mapping.items(), key=lambda x: x[1])]\n",
    "\n",
    "    # Plot the confusion matrix\n",
    "    plt.figure(figsize=(10, 8))\n",
    "    sns.heatmap(cm, annot=True, fmt='d', cmap='Blues', cbar=False,\n",
    "                xticklabels=class_labels, yticklabels=class_labels,\n",
    "                annot_kws={'size': 16})  # Set font size for annotations\n",
    "    plt.xticks(fontsize=20)  # Set font size for x-axis tick labels\n",
    "    plt.yticks(fontsize=20)  # Set font size for y-axis tick labels\n",
    "    plt.xlabel('Predicted', fontsize=20)  # Set font size for x-axis label\n",
    "    plt.ylabel('Actual', fontsize=20)  # Set font size for y-axis label\n",
    "    plt.title('Confusion Matrix / TEST', fontsize=20)  # Set font size for title\n",
    "    \n",
    "    # Save the plot if save_plot is True\n",
    "    if save_plot:\n",
    "        plt.savefig(filename)\n",
    "    \n",
    "    # Display the plot\n",
    "    plt.show()"
   ]
  },
  {
   "cell_type": "code",
   "execution_count": 9,
   "id": "83dd26bb-74f6-4841-b06e-b1587c2b0676",
   "metadata": {
    "tags": []
   },
   "outputs": [],
   "source": [
    "# Load images from a specified folder into a list\n",
    "\n",
    "def load_images(image_folder):\n",
    "    # Initialize an empty list to store loaded images\n",
    "    image_list = []\n",
    "    \n",
    "    # Iterate through subfolders (= labels) in the image folder\n",
    "    for label in os.listdir(image_folder):\n",
    "        if not label.startswith('.'): # Ignore hidden files (e.g. macOS system files)\n",
    "            image_label_folder = os.path.join(image_folder, label)\n",
    "            \n",
    "            # Iterate through image files in subfolder\n",
    "            for image_file in os.listdir(image_label_folder):\n",
    "                if image_file.endswith('.jpg'):\n",
    "                    image = Image.open(os.path.join(image_label_folder, image_file))\n",
    "                    image_list.append(image)\n",
    "\n",
    "    return image_list"
   ]
  },
  {
   "cell_type": "code",
   "execution_count": 10,
   "id": "c8e59a24-6e9e-4923-bfa4-a1a7e43f9811",
   "metadata": {
    "tags": []
   },
   "outputs": [],
   "source": [
    "\"\"\"\n",
    "Visualize prediction probabilities for a set of results.\n",
    "\n",
    "Args:\n",
    "    - y_actual (numpy.ndarray):  The true class labels for the results.\n",
    "    - y_prediction (numpy.ndarray): Predicted probabilities for each class for each result.\n",
    "    - image_folder (str): The folder containing images or data associated with the results (as generated by collect_data.py).\n",
    "    - bar_1, bar_2, bar_3 (tuple, optional): Tuples representing vertical reference lines on the bar plot.\n",
    "        - bar_x[0] (float): x-coordinate for the reference line.\n",
    "        - bar_x[1] (str): Color of the reference line (e.g., 'red').\n",
    "    - save_plot (bool, optional): Whether to save the plot as an image.\n",
    "    - filename (str, optional): The filename to use when saving the plot.\n",
    "\n",
    "Returns:\n",
    "    - None (shows and saves (optional) plot).\n",
    "\"\"\"\n",
    "\n",
    "def visualize_prediction_probabilities(y_actual, y_prediction, image_folder, bar_1 = False, bar_2 = False, bar_3 = False, save_plot=False, filename='prediction_probs.png'):\n",
    "    \n",
    "    label_mapping = create_label_mapping(image_folder)\n",
    "\n",
    "    # Determine the number of results\n",
    "    num_results = y_prediction.shape[0]\n",
    "    \n",
    "    X_images = load_images(image_folder)\n",
    "\n",
    "    # Set plot configuration parameters\n",
    "    num_columns = 2  # Number of columns (1 for the bar plot, 1 for the image)\n",
    "    subplot_width_ratio = 0.4  # Adjust this value to control the width of the bar plot side\n",
    "    subplot_height = 3  # Adjust this value to control the height of each subplot\n",
    "    num_rows = num_results\n",
    "\n",
    "    # Create subplots\n",
    "    fig, axs = plt.subplots(num_rows, num_columns, figsize=(12, num_rows * subplot_height),\n",
    "                            gridspec_kw={'width_ratios': [subplot_width_ratio, 1 - subplot_width_ratio]})\n",
    "\n",
    "    for i in range(num_results):\n",
    "        ax_bar = axs[i, 0]\n",
    "        ax_img = axs[i, 1]\n",
    "\n",
    "        # Get class labels and predicted probabilities for the current result\n",
    "        class_labels = list(label_mapping.keys())\n",
    "        class_indices = list(label_mapping.values())\n",
    "        predicted_probs = y_prediction[i]\n",
    "        actual_label = class_labels[y_actual[i]]  # Get the actual label based on y_test\n",
    "\n",
    "        # Plot bars for each class\n",
    "        bars = ax_bar.barh(class_indices, predicted_probs, color='blue')\n",
    "\n",
    "        # Set y-axis limits to always show 0 to 1 range\n",
    "        ax_bar.set_xlim(0, 1)\n",
    "\n",
    "        # Set y-axis labels and ticks\n",
    "        ax_bar.set_yticks(class_indices)\n",
    "        ax_bar.set_yticklabels(class_labels)\n",
    "\n",
    "        # Set x-axis label\n",
    "        ax_bar.set_xlabel('Predicted Probability')\n",
    "\n",
    "        # Set bar plot title with actual label\n",
    "        ax_bar.set_title(f\"Result {i + 1} for $\\mathbf{{{actual_label}}}$\")\n",
    "        \n",
    "        if bar_1:\n",
    "            ax_bar.axvline(x=bar_1[0], color=bar_1[1], linestyle='dotted', linewidth=3)\n",
    "            \n",
    "        if bar_2:\n",
    "            ax_bar.axvline(x=bar_2[0], color=bar_2[1], linestyle='dotted', linewidth=3)\n",
    "            \n",
    "        if bar_3:\n",
    "            ax_bar.axvline(x=bar_3[0], color=bar_3[1], linestyle='dotted', linewidth=3)\n",
    "\n",
    "        # Display the image if available\n",
    "        if X_images is not None:\n",
    "            ax_img.imshow(X_images[i])\n",
    "            ax_img.axis('off')  # Turn off axis numbers and ticks\n",
    "\n",
    "    plt.tight_layout()\n",
    "\n",
    "    # Save the plot if save_plot is True\n",
    "    if save_plot:\n",
    "        plt.savefig(filename)\n",
    "\n",
    "    # Display the plot\n",
    "    plt.show()\n"
   ]
  },
  {
   "cell_type": "markdown",
   "id": "c2bf1275-c16a-49f1-afcf-c20c2245d183",
   "metadata": {},
   "source": [
    "## 4. Load and Preprocess Training Data"
   ]
  },
  {
   "cell_type": "code",
   "execution_count": 11,
   "id": "4b8e0e64-81f6-439b-a28f-733e06857b8d",
   "metadata": {
    "tags": []
   },
   "outputs": [
    {
     "data": {
      "text/plain": [
       "{'X': 0, 'empty': 1, 'other': 2, 'squat': 3, 'stand': 4}"
      ]
     },
     "execution_count": 11,
     "metadata": {},
     "output_type": "execute_result"
    }
   ],
   "source": [
    "# Create label mapping dictionary\n",
    "\n",
    "# Training data collected with collect_data.py\n",
    "# Please note that in the repository, 'training_data' contains landmark data only, without annotated frames, to optimize data storage usage.\n",
    "# When using custom training data, it is recommended to visually validate the recorded pose by referring to the corresponding recorded frames.\n",
    "\n",
    "training_data = \"training_data/landmarks/\"\n",
    "\n",
    "label_mapping = create_label_mapping(training_data)\n",
    "\n",
    "label_mapping"
   ]
  },
  {
   "cell_type": "code",
   "execution_count": 12,
   "id": "e88187a7-7542-4caf-a9da-6f8e3b900182",
   "metadata": {
    "tags": []
   },
   "outputs": [
    {
     "data": {
      "text/plain": [
       "['X', 'empty', 'other', 'squat', 'stand']"
      ]
     },
     "execution_count": 12,
     "metadata": {},
     "output_type": "execute_result"
    }
   ],
   "source": [
    "pose_names = [pose for pose in label_mapping.keys()]\n",
    "pose_names"
   ]
  },
  {
   "cell_type": "code",
   "execution_count": 13,
   "id": "11ff4a41-99f5-40ca-bba3-4a94bd921775",
   "metadata": {
    "tags": []
   },
   "outputs": [
    {
     "data": {
      "text/plain": [
       "((1206, 12, 2), (1206,))"
      ]
     },
     "execution_count": 13,
     "metadata": {},
     "output_type": "execute_result"
    }
   ],
   "source": [
    "# The original training data consists of coordinates for five classes: 'empty' (30), 'X' (30), 'squat' (30), 'stand' (31), and 'other' (80), totaling 201 data points.\n",
    "# After augmentation (5-fold), the dataset now contains 1206 data points.\n",
    "\n",
    "X, y = load_and_augment_landmarks(training_data, fold_expansion= 5, translation_range=0.05, noise_std=0.01)\n",
    "\n",
    "X.shape, y.shape"
   ]
  },
  {
   "cell_type": "code",
   "execution_count": 14,
   "id": "83316648-f8c4-492d-a26d-e7416eff76af",
   "metadata": {
    "tags": []
   },
   "outputs": [
    {
     "data": {
      "text/plain": [
       "((964, 12, 2), (242, 12, 2), (964,), (242,))"
      ]
     },
     "execution_count": 14,
     "metadata": {},
     "output_type": "execute_result"
    }
   ],
   "source": [
    "# Split the data into training and validation sets\n",
    "\n",
    "X_train, X_val, y_train, y_val = train_test_split(X, y, test_size=0.2, random_state=42)\n",
    "\n",
    "X_train.shape, X_val.shape, y_train.shape, y_val.shape"
   ]
  },
  {
   "cell_type": "code",
   "execution_count": 15,
   "id": "808cc2c7-6b0e-4a70-9ce6-7f4d8a5f55ce",
   "metadata": {
    "tags": []
   },
   "outputs": [
    {
     "data": {
      "text/plain": [
       "((964, 24), (242, 24))"
      ]
     },
     "execution_count": 15,
     "metadata": {},
     "output_type": "execute_result"
    }
   ],
   "source": [
    "# Flatten the input data for training and validation sets\n",
    "\n",
    "X_train_flattened = reshape_landmarks(X_train)\n",
    "X_val_flattened = reshape_landmarks(X_val)\n",
    "\n",
    "X_train_flattened.shape, X_val_flattened.shape"
   ]
  },
  {
   "cell_type": "code",
   "execution_count": 16,
   "id": "41a480c6-45ce-4f56-ad48-5bcee47d5c8d",
   "metadata": {
    "tags": []
   },
   "outputs": [
    {
     "data": {
      "text/plain": [
       "((964, 5), (242, 5))"
      ]
     },
     "execution_count": 16,
     "metadata": {},
     "output_type": "execute_result"
    }
   ],
   "source": [
    "# One-hot encode integer labels for training and validation sets\n",
    "y_train_hot = to_categorical(y_train, num_classes=5)\n",
    "y_val_hot = to_categorical(y_val, num_classes=5)\n",
    "\n",
    "y_train_hot.shape, y_val_hot.shape"
   ]
  },
  {
   "cell_type": "markdown",
   "id": "09f22957-b559-47c8-a075-0e45ae6c84ab",
   "metadata": {
    "tags": []
   },
   "source": [
    "## 4. Model Building"
   ]
  },
  {
   "cell_type": "markdown",
   "id": "8cd9ef4b-19f9-4002-9f5d-a6de28c8d693",
   "metadata": {
    "tags": []
   },
   "source": [
    "### 4.1 Train Model"
   ]
  },
  {
   "cell_type": "code",
   "execution_count": 17,
   "id": "30cee936-a4fe-417e-bdf8-f1351632777a",
   "metadata": {
    "tags": []
   },
   "outputs": [
    {
     "name": "stdout",
     "output_type": "stream",
     "text": [
      "Model: \"sequential\"\n",
      "_________________________________________________________________\n",
      " Layer (type)                Output Shape              Param #   \n",
      "=================================================================\n",
      " dense (Dense)               (None, 64)                1600      \n",
      "                                                                 \n",
      " dropout (Dropout)           (None, 64)                0         \n",
      "                                                                 \n",
      " dense_1 (Dense)             (None, 32)                2080      \n",
      "                                                                 \n",
      " dropout_1 (Dropout)         (None, 32)                0         \n",
      "                                                                 \n",
      " dense_2 (Dense)             (None, 5)                 165       \n",
      "                                                                 \n",
      "=================================================================\n",
      "Total params: 3845 (15.02 KB)\n",
      "Trainable params: 3845 (15.02 KB)\n",
      "Non-trainable params: 0 (0.00 Byte)\n",
      "_________________________________________________________________\n"
     ]
    }
   ],
   "source": [
    "# Create a sequential model\n",
    "model = tf.keras.Sequential()\n",
    "\n",
    "# Add layers to the model\n",
    "model.add(tf.keras.layers.Dense(units=64, activation='relu', input_shape=(X_train_flattened.shape[1],)))\n",
    "model.add(tf.keras.layers.Dropout(0.1))\n",
    "model.add(tf.keras.layers.Dense(units=32, activation='relu'))\n",
    "model.add(tf.keras.layers.Dropout(0.1))\n",
    "model.add(tf.keras.layers.Dense(units=5, activation='softmax'))\n",
    "\n",
    "# Compile the model\n",
    "model.compile(optimizer='adam', loss='categorical_crossentropy', metrics=['accuracy'])\n",
    "\n",
    "# Print model summary\n",
    "model.summary()"
   ]
  },
  {
   "cell_type": "code",
   "execution_count": 18,
   "id": "5ab2f603-dd28-4fac-aaf4-35970a70259b",
   "metadata": {
    "tags": []
   },
   "outputs": [],
   "source": [
    "# Create an EarlyStopping callback to monitor validation accuracy and stop training if it doesn't improve for 10 consecutive epochs.\n",
    "\n",
    "callback = EarlyStopping(monitor='val_accuracy', patience= 10, mode='max', min_delta=0.001, verbose=1)"
   ]
  },
  {
   "cell_type": "code",
   "execution_count": 19,
   "id": "671fedf1-2a34-48bb-8cd7-a71ac56597d5",
   "metadata": {
    "collapsed": true,
    "jupyter": {
     "outputs_hidden": true
    },
    "tags": []
   },
   "outputs": [
    {
     "name": "stdout",
     "output_type": "stream",
     "text": [
      "Epoch 1/100\n",
      "31/31 [==============================] - 1s 8ms/step - loss: 1.3968 - accuracy: 0.4336 - val_loss: 1.2308 - val_accuracy: 0.5579\n",
      "Epoch 2/100\n",
      "31/31 [==============================] - 0s 2ms/step - loss: 1.2266 - accuracy: 0.5581 - val_loss: 1.1040 - val_accuracy: 0.5620\n",
      "Epoch 3/100\n",
      "31/31 [==============================] - 0s 2ms/step - loss: 1.0729 - accuracy: 0.5892 - val_loss: 0.9320 - val_accuracy: 0.7066\n",
      "Epoch 4/100\n",
      "31/31 [==============================] - 0s 2ms/step - loss: 0.9152 - accuracy: 0.6598 - val_loss: 0.7713 - val_accuracy: 0.7355\n",
      "Epoch 5/100\n",
      "31/31 [==============================] - 0s 2ms/step - loss: 0.7656 - accuracy: 0.7210 - val_loss: 0.6416 - val_accuracy: 0.7645\n",
      "Epoch 6/100\n",
      "31/31 [==============================] - 0s 2ms/step - loss: 0.6627 - accuracy: 0.7562 - val_loss: 0.5695 - val_accuracy: 0.8223\n",
      "Epoch 7/100\n",
      "31/31 [==============================] - 0s 2ms/step - loss: 0.5859 - accuracy: 0.7718 - val_loss: 0.4885 - val_accuracy: 0.8306\n",
      "Epoch 8/100\n",
      "31/31 [==============================] - 0s 7ms/step - loss: 0.5283 - accuracy: 0.7915 - val_loss: 0.4365 - val_accuracy: 0.8223\n",
      "Epoch 9/100\n",
      "31/31 [==============================] - 0s 11ms/step - loss: 0.4784 - accuracy: 0.7946 - val_loss: 0.3962 - val_accuracy: 0.8388\n",
      "Epoch 10/100\n",
      "31/31 [==============================] - 0s 4ms/step - loss: 0.4340 - accuracy: 0.8154 - val_loss: 0.3517 - val_accuracy: 0.8347\n",
      "Epoch 11/100\n",
      "31/31 [==============================] - 0s 2ms/step - loss: 0.3817 - accuracy: 0.8351 - val_loss: 0.3491 - val_accuracy: 0.8347\n",
      "Epoch 12/100\n",
      "31/31 [==============================] - 0s 2ms/step - loss: 0.3677 - accuracy: 0.8454 - val_loss: 0.2937 - val_accuracy: 0.8595\n",
      "Epoch 13/100\n",
      "31/31 [==============================] - 0s 2ms/step - loss: 0.3367 - accuracy: 0.8600 - val_loss: 0.2704 - val_accuracy: 0.9380\n",
      "Epoch 14/100\n",
      "31/31 [==============================] - 0s 2ms/step - loss: 0.3103 - accuracy: 0.8755 - val_loss: 0.2556 - val_accuracy: 0.9421\n",
      "Epoch 15/100\n",
      "31/31 [==============================] - 0s 2ms/step - loss: 0.2881 - accuracy: 0.8921 - val_loss: 0.2418 - val_accuracy: 0.9050\n",
      "Epoch 16/100\n",
      "31/31 [==============================] - 0s 2ms/step - loss: 0.2573 - accuracy: 0.9108 - val_loss: 0.2349 - val_accuracy: 0.9421\n",
      "Epoch 17/100\n",
      "31/31 [==============================] - 0s 2ms/step - loss: 0.2537 - accuracy: 0.9170 - val_loss: 0.2177 - val_accuracy: 0.9256\n",
      "Epoch 18/100\n",
      "31/31 [==============================] - 0s 2ms/step - loss: 0.2506 - accuracy: 0.8859 - val_loss: 0.1986 - val_accuracy: 0.9463\n",
      "Epoch 19/100\n",
      "31/31 [==============================] - 0s 2ms/step - loss: 0.2276 - accuracy: 0.9232 - val_loss: 0.1915 - val_accuracy: 0.9421\n",
      "Epoch 20/100\n",
      "31/31 [==============================] - 0s 2ms/step - loss: 0.2234 - accuracy: 0.9232 - val_loss: 0.2067 - val_accuracy: 0.9050\n",
      "Epoch 21/100\n",
      "31/31 [==============================] - 0s 2ms/step - loss: 0.2102 - accuracy: 0.9315 - val_loss: 0.1771 - val_accuracy: 0.9380\n",
      "Epoch 22/100\n",
      "31/31 [==============================] - 0s 3ms/step - loss: 0.2037 - accuracy: 0.9357 - val_loss: 0.1786 - val_accuracy: 0.9298\n",
      "Epoch 23/100\n",
      "31/31 [==============================] - 0s 2ms/step - loss: 0.2008 - accuracy: 0.9170 - val_loss: 0.1602 - val_accuracy: 0.9628\n",
      "Epoch 24/100\n",
      "31/31 [==============================] - 0s 3ms/step - loss: 0.1793 - accuracy: 0.9429 - val_loss: 0.1594 - val_accuracy: 0.9380\n",
      "Epoch 25/100\n",
      "31/31 [==============================] - 0s 2ms/step - loss: 0.1665 - accuracy: 0.9429 - val_loss: 0.1733 - val_accuracy: 0.9256\n",
      "Epoch 26/100\n",
      "31/31 [==============================] - 0s 2ms/step - loss: 0.1736 - accuracy: 0.9398 - val_loss: 0.1467 - val_accuracy: 0.9421\n",
      "Epoch 27/100\n",
      "31/31 [==============================] - 0s 2ms/step - loss: 0.1687 - accuracy: 0.9367 - val_loss: 0.1577 - val_accuracy: 0.9339\n",
      "Epoch 28/100\n",
      "31/31 [==============================] - 0s 2ms/step - loss: 0.1575 - accuracy: 0.9409 - val_loss: 0.1337 - val_accuracy: 0.9504\n",
      "Epoch 29/100\n",
      "31/31 [==============================] - 0s 2ms/step - loss: 0.1498 - accuracy: 0.9533 - val_loss: 0.1324 - val_accuracy: 0.9504\n",
      "Epoch 30/100\n",
      "31/31 [==============================] - 0s 2ms/step - loss: 0.1445 - accuracy: 0.9554 - val_loss: 0.1283 - val_accuracy: 0.9545\n",
      "Epoch 31/100\n",
      "31/31 [==============================] - 0s 2ms/step - loss: 0.1360 - accuracy: 0.9533 - val_loss: 0.1197 - val_accuracy: 0.9463\n",
      "Epoch 32/100\n",
      "31/31 [==============================] - 0s 2ms/step - loss: 0.1364 - accuracy: 0.9533 - val_loss: 0.1199 - val_accuracy: 0.9504\n",
      "Epoch 33/100\n",
      "31/31 [==============================] - 0s 2ms/step - loss: 0.1292 - accuracy: 0.9544 - val_loss: 0.1229 - val_accuracy: 0.9463\n",
      "Epoch 33: early stopping\n"
     ]
    }
   ],
   "source": [
    "# Train the model\n",
    "\n",
    "batch_size = 32\n",
    "epochs = 100\n",
    "\n",
    "history = model.fit(X_train_flattened, y_train_hot, batch_size=batch_size, epochs=epochs, validation_data=(X_val_flattened, y_val_hot), callbacks=[callback])"
   ]
  },
  {
   "cell_type": "code",
   "execution_count": 20,
   "id": "c886bf71-36af-4247-a0b7-c6beb6e5e896",
   "metadata": {
    "tags": []
   },
   "outputs": [
    {
     "data": {
      "image/png": "[encoded data removed]",
      "text/plain": [
       "<Figure size 1000x500 with 2 Axes>"
      ]
     },
     "metadata": {},
     "output_type": "display_data"
    },
    {
     "data": {
      "text/plain": [
       "'\\nDropout layers are introduced to:\\n - Regularize; making classification of poses not too dependent on single/specific neurons.\\n - Avoid overfitting.\\n - Generalize; the model is more robust to variations in input data and reduces the influence of outliers.\\n '"
      ]
     },
     "execution_count": 20,
     "metadata": {},
     "output_type": "execute_result"
    }
   ],
   "source": [
    "plot_training_history(history)\n",
    "\n",
    "\"\"\"\n",
    "Dropout layers are introduced to:\n",
    " - Regularize; making classification of poses not too dependent on single/specific neurons.\n",
    " - Avoid overfitting.\n",
    " - Generalize; the model is more robust to variations in input data and reduces the influence of outliers.\n",
    " \"\"\""
   ]
  },
  {
   "cell_type": "markdown",
   "id": "a1252e25-68a3-4788-8bf1-13842edfc6ee",
   "metadata": {},
   "source": [
    "### 4.2 Save Model"
   ]
  },
  {
   "cell_type": "code",
   "execution_count": 21,
   "id": "f971591b-2b97-4a94-8fc3-68c65f833479",
   "metadata": {
    "tags": []
   },
   "outputs": [],
   "source": [
    "# Uncomment to save ;)\n",
    "\n",
    "# model.save('model_pose_detection.h5')"
   ]
  },
  {
   "cell_type": "markdown",
   "id": "cbd01407-6ea4-4844-b824-447689fffd08",
   "metadata": {
    "tags": []
   },
   "source": [
    "## 5. Model testing"
   ]
  },
  {
   "cell_type": "markdown",
   "id": "e564f701-c6ca-4445-ba8d-99a7827dd1cd",
   "metadata": {
    "tags": []
   },
   "source": [
    "### 5.1 Load and Preprocess Test Data"
   ]
  },
  {
   "cell_type": "code",
   "execution_count": 22,
   "id": "fdddd315-353f-4cac-b476-49c6b26da355",
   "metadata": {
    "tags": []
   },
   "outputs": [],
   "source": [
    "# Load model (this is the one originally provided to play \"STRIKE A POSE\")\n",
    "\n",
    "model = load_model(\"../model_strike_a_pose.h5\")"
   ]
  },
  {
   "cell_type": "code",
   "execution_count": 23,
   "id": "44c3072c-64ee-43b1-ba70-260f7c9394dd",
   "metadata": {
    "tags": []
   },
   "outputs": [
    {
     "data": {
      "text/plain": [
       "((62, 24), (62,), {'X': 0, 'empty': 1, 'other': 2, 'squat': 3, 'stand': 4})"
      ]
     },
     "execution_count": 23,
     "metadata": {},
     "output_type": "execute_result"
    }
   ],
   "source": [
    "# Load test data\n",
    "# Note: Due to time constraints, training data was only collected by recording one individual. \n",
    "# To demonstrate the model's ability to confidently classify poses by others, testing data was collected by recording poses performed by a different person (using collect_data.py).\n",
    "\n",
    "# Test data consists of recorded coordinates for five classes: 'X' (13), 'squat' (13), 'stand' (11), 'empty' (12), and 'other' (13), totaling 62 data points.\n",
    "# Note: The 'other' class exclusively contains 'crane' pose recordings, a challenging pose to classify and distinguish from 'stand' and 'X'. Visualizations of this pose can be found in the 'frames' folder.\n",
    "# (Visualizations of this pose can be found in the 'frames' folder).\n",
    "\n",
    "test_landmarks = \"test_data/landmarks\"\n",
    "\n",
    "X_test, y_test, label_mapping = load_and_preprocess_test_data(test_landmarks)\n",
    "\n",
    "X_test.shape, y_test.shape, label_mapping"
   ]
  },
  {
   "cell_type": "markdown",
   "id": "0234b5e5-05b2-45a8-abf7-c452a8d6e038",
   "metadata": {},
   "source": [
    "### 5.2 Perfom Test Prediction"
   ]
  },
  {
   "cell_type": "code",
   "execution_count": 24,
   "id": "41213031-5286-49d1-bcfb-e7d642a5194e",
   "metadata": {
    "tags": []
   },
   "outputs": [
    {
     "name": "stdout",
     "output_type": "stream",
     "text": [
      "2/2 [==============================] - 0s 3ms/step\n"
     ]
    }
   ],
   "source": [
    "# Predict poses using the model\n",
    "\n",
    "y_pred = model.predict(X_test) # 'y_pred' contains the raw prediction scores for each class for each test sample.\n",
    "y_pred_classes = np.argmax(y_pred, axis=1) # Convert the raw prediction scores into predicted class labels by selecting the class with the highest score for each test sample."
   ]
  },
  {
   "cell_type": "markdown",
   "id": "e44d4949-0b0e-4169-9086-c8159c459f2e",
   "metadata": {},
   "source": [
    "### 5.3 Analyze Test Predictions"
   ]
  },
  {
   "cell_type": "markdown",
   "id": "2ed14641-dd17-439f-a409-a71351c223d1",
   "metadata": {
    "tags": []
   },
   "source": [
    "#### 5.3.1 Confusion Matrix"
   ]
  },
  {
   "cell_type": "code",
   "execution_count": 25,
   "id": "43822dad-02fa-4e59-bdc1-ada3fcc59efd",
   "metadata": {},
   "outputs": [
    {
     "data": {
      "image/png": "[encoded data removed]",
      "text/plain": [
       "<Figure size 1000x800 with 1 Axes>"
      ]
     },
     "metadata": {},
     "output_type": "display_data"
    }
   ],
   "source": [
    "# Plot Confusion Matrix\n",
    "\n",
    "plot_confusion_matrix(y_test, y_pred_classes, label_mapping)\n",
    "\n",
    "# The model performs well in predicting most poses but exhibits limitations in correctly classifying 'stand'.\n",
    "# Further analysis is conducted below by exploring prediction probabilities."
   ]
  },
  {
   "cell_type": "markdown",
   "id": "ec888c35-1cca-4f12-869c-39aebd48b833",
   "metadata": {},
   "source": [
    "#### 5.3.2 Prediction Probabilities "
   ]
  },
  {
   "cell_type": "code",
   "execution_count": 26,
   "id": "d50bc6bd-dffc-49f2-b67a-778c5615d4dd",
   "metadata": {},
   "outputs": [],
   "source": [
    "image_folder = 'test_data/frames'"
   ]
  },
  {
   "cell_type": "code",
   "execution_count": null,
   "id": "ecb4e02d-0fd0-4ad2-8491-f919e1907cf6",
   "metadata": {
    "tags": []
   },
   "outputs": [],
   "source": [
    "visualize_prediction_probabilities(y_test ,y_pred, image_folder, bar_1 = (0.7, \"red\"), bar_2 = (0.5, \"green\"), bar_3 = (0.2, \"green\"))\n",
    "                                                                                                                                       \n",
    "\"\"\"   \n",
    "'Pose' is used as a wildcard to represent any pose except for the specific ones: 'Hide,' 'X,' 'Squat,' or 'Stand.'\n",
    "\n",
    "Some 'Stand' poses have been miscategorized as 'Pose'/other category: Result 43, 47, 48 (also see confusion matrix above).\n",
    "\n",
    "Certain 'Stand' poses are classified with low confidence, where the prediction probability is < 0.7: Results 42, 44, 46.\n",
    "\n",
    "Despite variations in the model's prediction performance for the 'Stand' pose, a visual examination of the pose coordinates does not reveal any discernible differences that could account for this behavior.\n",
    "It's worth noting that the 'Pose'/other category is somehow linked to the 'Stand' pose based on the model's classification.\n",
    "\n",
    "To address the classifier's unique behavior in these situations, the following set of rules is established to guide the final classification process (constants used in 'predict_pose' functions in utils.py):\n",
    "\n",
    "Constants used in 'predict_pose' functions (see utils.py).\n",
    "\n",
    "CONFIDENCE_THRESHOLD = 0.7  -- min. prediction confidence to be reached (but for 'Stand'), otherwise reclassified to 'Pose'.\n",
    "CONFIDENCE_THRESHOLD_STAND = 0.5  -- min. prediction confidence to be reached for 'Stand', otherwise reclassified to 'Pose'.\n",
    "CONFIDENCE_THRESHOLD_POSE_TO_STAND = 0.2  -- min. prediction confidence classification 'Stand' if 'Pose' is the most likel prediction with 'Stand' being the second most likely.\n",
    "\n",
    "These rules and thresholds are implemented to fine-tune the model's behavior and mitigate misclassifications, particularly when distinguishing 'Stand' from 'Pose'.\n",
    "\"\"\""
   ]
  },
  {
   "cell_type": "code",
   "execution_count": null,
   "id": "44f921b5-2fcf-4800-ae2b-aa744027f6f1",
   "metadata": {},
   "outputs": [],
   "source": []
  }
 ],
 "metadata": {
  "kernelspec": {
   "display_name": "Python 3 (ipykernel)",
   "language": "python",
   "name": "python3"
  },
  "language_info": {
   "codemirror_mode": {
    "name": "ipython",
    "version": 3
   },
   "file_extension": ".py",
   "mimetype": "text/x-python",
   "name": "python",
   "nbconvert_exporter": "python",
   "pygments_lexer": "ipython3",
   "version": "3.10.12"
  },
  "toc-autonumbering": false,
  "toc-showcode": false,
  "toc-showmarkdowntxt": false
 },
 "nbformat": 4,
 "nbformat_minor": 5
}
